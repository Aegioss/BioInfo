{
 "cells": [
  {
   "cell_type": "code",
   "execution_count": 4,
   "metadata": {},
   "outputs": [],
   "source": [
    "import pandas as pd\n",
    "import glob\n",
    "import re\n",
    "import xml.etree.ElementTree as et"
   ]
  },
  {
   "cell_type": "code",
   "execution_count": 17,
   "metadata": {},
   "outputs": [],
   "source": [
    "data_annotation = pd.DataFrame(columns = ['Sample_id', 'Cns_subregion', 'Sample_group', 'Subject_id']) # initialisation of the dataframe\n",
    "xtree = et.parse('./Data/GSE124439_family.xml') # create a variable containing the xml in a tree shape\n",
    "xroot = xtree.getroot() # get the root of the tree to start the exploration of the tree/xml\n",
    "# for each element named \"sample\" that can be found from the root\n",
    "for child in xroot.iter(\"{http://www.ncbi.nlm.nih.gov/geo/info/MINiML}Sample\"):\n",
    "    temp_sample_id = child.attrib['iid'] # the attribut of this node contains the sample id ()\n",
    "    # for each element named \"Characteristics\" that can be found from the current sample\n",
    "    for child2 in child.iter(\"{http://www.ncbi.nlm.nih.gov/geo/info/MINiML}Characteristics\"):\n",
    "        if(child2.attrib[\"tag\"] == \"cns subregion\"):\n",
    "            temp_cns_subregion = child2.text.replace('\\n', '')\n",
    "        if(child2.attrib[\"tag\"] == \"sample group\"):\n",
    "            temp_sample_group = child2.text.replace('\\n', '')\n",
    "        if(child2.attrib[\"tag\"] == \"subject id\"):\n",
    "            temp_subject_id = child2.text.replace('\\n', '')\n",
    "    temp_df = pd.DataFrame({'Sample_id': [temp_sample_id.strip()], 'Cns_subregion': [temp_cns_subregion.strip()], 'Sample_group': [temp_sample_group.strip()], 'Subject_id': [temp_subject_id.strip()]})\n",
    "    data_annotation = pd.concat([data_annotation, temp_df])"
   ]
  },
  {
   "cell_type": "code",
   "execution_count": 18,
   "metadata": {},
   "outputs": [
    {
     "data": {
      "text/html": [
       "<div>\n",
       "<style scoped>\n",
       "    .dataframe tbody tr th:only-of-type {\n",
       "        vertical-align: middle;\n",
       "    }\n",
       "\n",
       "    .dataframe tbody tr th {\n",
       "        vertical-align: top;\n",
       "    }\n",
       "\n",
       "    .dataframe thead th {\n",
       "        text-align: right;\n",
       "    }\n",
       "</style>\n",
       "<table border=\"1\" class=\"dataframe\">\n",
       "  <thead>\n",
       "    <tr style=\"text-align: right;\">\n",
       "      <th></th>\n",
       "      <th>Sample_id</th>\n",
       "      <th>Cns_subregion</th>\n",
       "      <th>Sample_group</th>\n",
       "      <th>Subject_id</th>\n",
       "    </tr>\n",
       "  </thead>\n",
       "  <tbody>\n",
       "    <tr>\n",
       "      <th>0</th>\n",
       "      <td>GSM3533230</td>\n",
       "      <td>Frontal Cortex</td>\n",
       "      <td>ALS Spectrum MND</td>\n",
       "      <td>NEUEL133AK6</td>\n",
       "    </tr>\n",
       "    <tr>\n",
       "      <th>0</th>\n",
       "      <td>GSM3533231</td>\n",
       "      <td>Frontal Cortex</td>\n",
       "      <td>ALS Spectrum MND</td>\n",
       "      <td>NEUYV496XLP</td>\n",
       "    </tr>\n",
       "    <tr>\n",
       "      <th>0</th>\n",
       "      <td>GSM3533232</td>\n",
       "      <td>Frontal Cortex</td>\n",
       "      <td>ALS Spectrum MND</td>\n",
       "      <td>NEUZU200WEQ</td>\n",
       "    </tr>\n",
       "    <tr>\n",
       "      <th>0</th>\n",
       "      <td>GSM3533233</td>\n",
       "      <td>Frontal Cortex</td>\n",
       "      <td>ALS Spectrum MND</td>\n",
       "      <td>NEUME287RK2</td>\n",
       "    </tr>\n",
       "    <tr>\n",
       "      <th>0</th>\n",
       "      <td>GSM3533234</td>\n",
       "      <td>Frontal Cortex</td>\n",
       "      <td>ALS Spectrum MND</td>\n",
       "      <td>NEUEC006FND</td>\n",
       "    </tr>\n",
       "    <tr>\n",
       "      <th>...</th>\n",
       "      <td>...</td>\n",
       "      <td>...</td>\n",
       "      <td>...</td>\n",
       "      <td>...</td>\n",
       "    </tr>\n",
       "    <tr>\n",
       "      <th>0</th>\n",
       "      <td>GSM3533401</td>\n",
       "      <td>Frontal Cortex</td>\n",
       "      <td>ALS Spectrum MND</td>\n",
       "      <td>NEUMY028JH4</td>\n",
       "    </tr>\n",
       "    <tr>\n",
       "      <th>0</th>\n",
       "      <td>GSM3533402</td>\n",
       "      <td>Frontal Cortex</td>\n",
       "      <td>ALS Spectrum MND</td>\n",
       "      <td>NEUXR145UBL</td>\n",
       "    </tr>\n",
       "    <tr>\n",
       "      <th>0</th>\n",
       "      <td>GSM3533403</td>\n",
       "      <td>Frontal Cortex</td>\n",
       "      <td>ALS Spectrum MND</td>\n",
       "      <td>NEUKN209FNW</td>\n",
       "    </tr>\n",
       "    <tr>\n",
       "      <th>0</th>\n",
       "      <td>GSM3533404</td>\n",
       "      <td>Frontal Cortex</td>\n",
       "      <td>ALS Spectrum MND</td>\n",
       "      <td>NEUUF289NRL</td>\n",
       "    </tr>\n",
       "    <tr>\n",
       "      <th>0</th>\n",
       "      <td>GSM3533405</td>\n",
       "      <td>Frontal Cortex</td>\n",
       "      <td>ALS Spectrum MND</td>\n",
       "      <td>NEUPU334DL1</td>\n",
       "    </tr>\n",
       "  </tbody>\n",
       "</table>\n",
       "<p>176 rows × 4 columns</p>\n",
       "</div>"
      ],
      "text/plain": [
       "     Sample_id   Cns_subregion      Sample_group   Subject_id\n",
       "0   GSM3533230  Frontal Cortex  ALS Spectrum MND  NEUEL133AK6\n",
       "0   GSM3533231  Frontal Cortex  ALS Spectrum MND  NEUYV496XLP\n",
       "0   GSM3533232  Frontal Cortex  ALS Spectrum MND  NEUZU200WEQ\n",
       "0   GSM3533233  Frontal Cortex  ALS Spectrum MND  NEUME287RK2\n",
       "0   GSM3533234  Frontal Cortex  ALS Spectrum MND  NEUEC006FND\n",
       "..         ...             ...               ...          ...\n",
       "0   GSM3533401  Frontal Cortex  ALS Spectrum MND  NEUMY028JH4\n",
       "0   GSM3533402  Frontal Cortex  ALS Spectrum MND  NEUXR145UBL\n",
       "0   GSM3533403  Frontal Cortex  ALS Spectrum MND  NEUKN209FNW\n",
       "0   GSM3533404  Frontal Cortex  ALS Spectrum MND  NEUUF289NRL\n",
       "0   GSM3533405  Frontal Cortex  ALS Spectrum MND  NEUPU334DL1\n",
       "\n",
       "[176 rows x 4 columns]"
      ]
     },
     "execution_count": 18,
     "metadata": {},
     "output_type": "execute_result"
    }
   ],
   "source": [
    "data_annotation"
   ]
  },
  {
   "cell_type": "code",
   "execution_count": 19,
   "metadata": {},
   "outputs": [
    {
     "data": {
      "text/plain": [
       "array(['Frontal Cortex', 'Motor Cortex (Medial)',\n",
       "       'Motor Cortex (Lateral)', 'Motor Cortex'], dtype=object)"
      ]
     },
     "execution_count": 19,
     "metadata": {},
     "output_type": "execute_result"
    }
   ],
   "source": [
    "data_annotation['Cns_subregion'].unique()"
   ]
  },
  {
   "cell_type": "code",
   "execution_count": 20,
   "metadata": {},
   "outputs": [
    {
     "data": {
      "text/plain": [
       "array(['ALS Spectrum MND', 'Non-Neurological Control',\n",
       "       'Other Neurological Disorders'], dtype=object)"
      ]
     },
     "execution_count": 20,
     "metadata": {},
     "output_type": "execute_result"
    }
   ],
   "source": [
    "data_annotation['Sample_group'].unique()"
   ]
  },
  {
   "cell_type": "code",
   "execution_count": 24,
   "metadata": {},
   "outputs": [
    {
     "data": {
      "text/plain": [
       "95"
      ]
     },
     "execution_count": 24,
     "metadata": {},
     "output_type": "execute_result"
    }
   ],
   "source": [
    "len(data_annotation['Subject_id'].unique())"
   ]
  },
  {
   "cell_type": "code",
   "execution_count": null,
   "metadata": {},
   "outputs": [],
   "source": []
  }
 ],
 "metadata": {
  "kernelspec": {
   "display_name": "lsa",
   "language": "python",
   "name": "python3"
  },
  "language_info": {
   "codemirror_mode": {
    "name": "ipython",
    "version": 3
   },
   "file_extension": ".py",
   "mimetype": "text/x-python",
   "name": "python",
   "nbconvert_exporter": "python",
   "pygments_lexer": "ipython3",
   "version": "3.8.20"
  }
 },
 "nbformat": 4,
 "nbformat_minor": 2
}
